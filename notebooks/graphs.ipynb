{
 "cells": [
  {
   "cell_type": "code",
   "execution_count": 1,
   "id": "a78648e9-093b-400c-80d2-18687195cc64",
   "metadata": {},
   "outputs": [],
   "source": [
    "import numpy as np\n",
    "import pandas as pd"
   ]
  },
  {
   "cell_type": "markdown",
   "id": "e4bea7a0-4b6a-4e80-83a9-8be123e16066",
   "metadata": {},
   "source": [
    "## This script is used to create a bar chart with shape/color sensitivity scores and std_error values from a RDM.\n",
    "1. The user should first create the RDM and save the csv file before using this script.<br>\n",
    "2. To create RDM and save its csv file, use RDMs.ipynb notebook first."
   ]
  },
  {
   "cell_type": "code",
   "execution_count": 3,
   "id": "66de4212-237b-4625-8609-a92ec4e1f17c",
   "metadata": {},
   "outputs": [],
   "source": [
    "class RDM_Evaluator_VisualBinding:\n",
    "    def __init__(\n",
    "        self,\n",
    "        csv_file,\n",
    "    ):\n",
    "        self.csv_file = csv_file\n",
    "        self.df = self._load_file()\n",
    "        self.rows, self.cols = self.df.shape\n",
    "\n",
    "        \n",
    "    def _load_file(self,):\n",
    "        df = pd.read_csv(self.csv_file, header=None)\n",
    "        return df\n",
    "    \n",
    "    def eval_color(self,):\n",
    "        # list to store values from RDM cells\n",
    "        self.colors = []\n",
    "        # index at which a new shape is available in the RDM grid\n",
    "        save_index = [0,4,8,12]\n",
    "        # after every 4 rows, reset the variable for the next shape\n",
    "        increment=-1\n",
    "\n",
    "        for j in range(0,self.rows):\n",
    "            if j%4 == 0 and j!=0: # i.e. encountered a new shape\n",
    "                increment = -1 # reset the variable\n",
    "            increment+=1\n",
    "            for i in save_index:\n",
    "                i+=increment\n",
    "                cell = self.df[j][i]\n",
    "                self.colors.append(self.df[j][i])\n",
    "        \n",
    "        # return avg value - \n",
    "        self.avg = round(sum(self.colors) / len(self.colors),6)\n",
    "        return self.avg\n",
    "        \n",
    "    \n",
    "    def eval_shape(self,):\n",
    "        # list to store values from RDM cells based on conditions\n",
    "        self.shapes = []\n",
    "        \n",
    "        # iterate through the entire RDM matrix and store value based on conditions\n",
    "        for i in range(self.rows):\n",
    "            for j in range(self.cols):\n",
    "\n",
    "                # cond 1 - circle shape values\n",
    "                if i<=3 and j<=3:\n",
    "                    self.shapes.append(self.df[i][j])\n",
    "\n",
    "                # cond 2 - triangle shape values\n",
    "                if 3<i<8 and 3<j<8:\n",
    "                    self.shapes.append(self.df[i][j])\n",
    "\n",
    "                # cond 3 - trapezoid shape values\n",
    "                if 7<i<12 and 7<j<12:\n",
    "                    self.shapes.append(self.df[i][j])\n",
    "\n",
    "                # cond 4 - mountain shape values\n",
    "                if 11<i<16 and 11<j<16:\n",
    "                    self.shapes.append(self.df[i][j])\n",
    "        \n",
    "        # return avg value - \n",
    "        self.avg = round(sum(self.shapes) / len(self.shapes),6)\n",
    "        return self.avg\n",
    "    \n",
    "    def standard_error(self, values):\n",
    "        # Convert the list to a numpy array\n",
    "        values_array = np.array(values)\n",
    "\n",
    "        # Calculate the standard error\n",
    "        # ddof=1 represents std_deviation across samples instead of population\n",
    "        std_error = np.std(values_array, ddof=1) / np.sqrt(len(values))\n",
    "        \n",
    "        return std_error"
   ]
  },
  {
   "cell_type": "code",
   "execution_count": 326,
   "id": "3166360a-dbcf-40c7-b180-c73a45633538",
   "metadata": {},
   "outputs": [],
   "source": [
    "# load file\n",
    "csv_file = '/data/lpandey/LOGS/CSV_FILES/paper_UTAustin_NatHumBeh/Exp2/vit9h_gsAug_video3_seed2_similarityMatrix.csv'\n",
    "rdm_eval = RDM_Evaluator_VisualBinding(csv_file=csv_file)\n",
    "# display csv file as dataframe\n",
    "#rdm_eval.df"
   ]
  },
  {
   "cell_type": "code",
   "execution_count": 327,
   "id": "f8053979-d28a-47c8-95d1-d87b2acb8552",
   "metadata": {},
   "outputs": [
    {
     "name": "stdout",
     "output_type": "stream",
     "text": [
      "Color Score is : 0.25875 and Std_Error is : 0.06317316055324218\n",
      "Shape Score is : 0.699688 and Std_Error is : 0.036511419684272906\n"
     ]
    }
   ],
   "source": [
    "# calculate shape and color scores\n",
    "score_shape = rdm_eval.eval_shape()\n",
    "score_color = rdm_eval.eval_color()\n",
    "\n",
    "# calculate standard error for shape and color\n",
    "stdErr_shape = rdm_eval.standard_error(rdm_eval.shapes)\n",
    "stdErr_color = rdm_eval.standard_error(rdm_eval.colors)\n",
    "\n",
    "# display results\n",
    "print(\"Color Score is : {} and Std_Error is : {}\".format(score_color,stdErr_color))\n",
    "print(\"Shape Score is : {} and Std_Error is : {}\".format(score_shape,stdErr_shape))"
   ]
  },
  {
   "cell_type": "code",
   "execution_count": 328,
   "id": "1e2719ef-e417-404a-97c4-5c0f6384a4b5",
   "metadata": {},
   "outputs": [
    {
     "data": {
      "image/png": "[encoded data removed]",
      "text/plain": [
       "<Figure size 250x600 with 1 Axes>"
      ]
     },
     "metadata": {},
     "output_type": "display_data"
    }
   ],
   "source": [
    "import matplotlib.pyplot as plt\n",
    "import numpy as np\n",
    "\n",
    "x_axis = (\"Color\", \"Shape\")\n",
    "acc = {\n",
    "    'scores': (score_color, score_shape)\n",
    "}\n",
    "std_errors = {\n",
    "    'scores': (stdErr_color, stdErr_shape)\n",
    "}\n",
    "\n",
    "x = np.arange(len(x_axis))  # the label locations\n",
    "width = 0.40  # the width of the bars\n",
    "\n",
    "fig, ax = plt.subplots(figsize=(2.5, 6))  # width x height\n",
    "\n",
    "# Manually specify colors for each bar\n",
    "colors = ['tomato', 'deepskyblue']\n",
    "\n",
    "# Plot the bars\n",
    "rects1 = ax.bar(x, acc['scores'], width, label='scores', color=colors, yerr=std_errors['scores'], capsize=5)\n",
    "\n",
    "# Add some text for labels, title, and custom x-axis tick labels, etc.\n",
    "ax.set_xticks(x)  # Set the tick positions to the center of each bar\n",
    "ax.set_xticklabels(x_axis, rotation=0, ha='center', fontsize=15)  # Center-align the tick labels\n",
    "\n",
    "\n",
    "y_tick_locs = np.arange(0, 1.1, 0.1)\n",
    "ax.set_yticks(y_tick_locs)\n",
    "\n",
    "# Set the y-axis label\n",
    "ax.set_ylabel('Representational Similarity\\n', fontsize=16)\n",
    "\n",
    "# Remove top and right spines\n",
    "ax.spines['top'].set_visible(False)\n",
    "ax.spines['right'].set_visible(False)\n",
    "\n",
    "plt.show()\n"
   ]
  },
  {
   "cell_type": "code",
   "execution_count": null,
   "id": "69e424e5-fdff-4cca-beca-05d03b7ccbb1",
   "metadata": {},
   "outputs": [],
   "source": []
  },
  {
   "cell_type": "code",
   "execution_count": null,
   "id": "4bdd6ba0-4bd4-45b5-af77-f3f323f8ad3f",
   "metadata": {},
   "outputs": [],
   "source": []
  }
 ],
 "metadata": {
  "kernelspec": {
   "display_name": "Python 3 (ipykernel)",
   "language": "python",
   "name": "python3"
  },
  "language_info": {
   "codemirror_mode": {
    "name": "ipython",
    "version": 3
   },
   "file_extension": ".py",
   "mimetype": "text/x-python",
   "name": "python",
   "nbconvert_exporter": "python",
   "pygments_lexer": "ipython3",
   "version": "3.11.5"
  }
 },
 "nbformat": 4,
 "nbformat_minor": 5
}
